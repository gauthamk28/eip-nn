{
  "nbformat": 4,
  "nbformat_minor": 0,
  "metadata": {
    "colab": {
      "name": "Augmentation_085_May16_DNST_CIFAR10_AUG.ipynb",
      "version": "0.3.2",
      "views": {},
      "default_view": {},
      "provenance": [
        {
          "file_id": "1pFn0wvWOKj93A4_-pjMxsxR96VDyN-NF",
          "timestamp": 1526444543817
        },
        {
          "file_id": "1_1kwmwgL7g94jI6BEtcgm-D2_AFk0zxK",
          "timestamp": 1519101209834
        }
      ],
      "collapsed_sections": []
    },
    "kernelspec": {
      "name": "python3",
      "display_name": "Python 3"
    },
    "accelerator": "GPU"
  },
  "cells": [
    {
      "metadata": {
        "id": "K70hAckqg0EA",
        "colab_type": "code",
        "colab": {
          "autoexec": {
            "startup": false,
            "wait_interval": 0
          },
          "base_uri": "https://localhost:8080/",
          "height": 34
        },
        "outputId": "7f86fc51-24cd-48e6-b85b-26f40956bfc2",
        "executionInfo": {
          "status": "ok",
          "timestamp": 1526445433935,
          "user_tz": -330,
          "elapsed": 9892,
          "user": {
            "displayName": "Mr.Lazy Man",
            "photoUrl": "//lh6.googleusercontent.com/-1Hw8zucqO6U/AAAAAAAAAAI/AAAAAAAAAhw/CfRaKuQoodA/s50-c-k-no/photo.jpg",
            "userId": "102521058597262944620"
          }
        }
      },
      "cell_type": "code",
      "source": [
        "# https://keras.io/\n",
        "!pip install -q keras\n",
        "import keras"
      ],
      "execution_count": 1,
      "outputs": [
        {
          "output_type": "stream",
          "text": [
            "Using TensorFlow backend.\n"
          ],
          "name": "stderr"
        }
      ]
    },
    {
      "metadata": {
        "id": "wVIx_KIigxPV",
        "colab_type": "code",
        "colab": {
          "autoexec": {
            "startup": false,
            "wait_interval": 0
          }
        }
      },
      "cell_type": "code",
      "source": [
        "import keras\n",
        "from keras.datasets import cifar10\n",
        "from keras.models import Model, Sequential\n",
        "from keras.layers import Dense, Dropout, Flatten, Input, AveragePooling2D, merge, Activation\n",
        "from keras.layers import Conv2D, MaxPooling2D, BatchNormalization\n",
        "from keras.layers import Concatenate\n",
        "from keras.optimizers import Adam,RMSprop"
      ],
      "execution_count": 0,
      "outputs": []
    },
    {
      "metadata": {
        "id": "UNHw6luQg3gc",
        "colab_type": "code",
        "colab": {
          "autoexec": {
            "startup": false,
            "wait_interval": 0
          }
        }
      },
      "cell_type": "code",
      "source": [
        "# this part will prevent tensorflow to allocate all the avaliable GPU Memory\n",
        "# backend\n",
        "import tensorflow as tf\n",
        "from keras import backend as k\n",
        "\n",
        "# Don't pre-allocate memory; allocate as-needed\n",
        "config = tf.ConfigProto()\n",
        "config.gpu_options.allow_growth = True\n",
        "\n",
        "# Create a session with the above options specified.\n",
        "k.tensorflow_backend.set_session(tf.Session(config=config))"
      ],
      "execution_count": 0,
      "outputs": []
    },
    {
      "metadata": {
        "id": "dsO_yGxcg5D8",
        "colab_type": "code",
        "colab": {
          "autoexec": {
            "startup": false,
            "wait_interval": 0
          }
        }
      },
      "cell_type": "code",
      "source": [
        "# Hyperparameters\n",
        "batch_size = 128\n",
        "num_classes = 10\n",
        "epochs = 50\n",
        "l = 40\n",
        "num_filter = 24\n",
        "compression = 0.6\n",
        "dropout_rate = 0.2"
      ],
      "execution_count": 0,
      "outputs": []
    },
    {
      "metadata": {
        "id": "mB7o3zu1g6eT",
        "colab_type": "code",
        "colab": {
          "autoexec": {
            "startup": false,
            "wait_interval": 0
          },
          "base_uri": "https://localhost:8080/",
          "height": 50
        },
        "outputId": "f01db10c-431e-4f62-c241-8faa2432dd46",
        "executionInfo": {
          "status": "ok",
          "timestamp": 1526445475111,
          "user_tz": -330,
          "elapsed": 37547,
          "user": {
            "displayName": "Mr.Lazy Man",
            "photoUrl": "//lh6.googleusercontent.com/-1Hw8zucqO6U/AAAAAAAAAAI/AAAAAAAAAhw/CfRaKuQoodA/s50-c-k-no/photo.jpg",
            "userId": "102521058597262944620"
          }
        }
      },
      "cell_type": "code",
      "source": [
        "# Load CIFAR10 Data\n",
        "(x_train, y_train), (x_test, y_test) = cifar10.load_data()\n",
        "img_height, img_width, channel = x_train.shape[1],x_train.shape[2],x_train.shape[3]\n",
        "\n",
        "# convert to one hot encoing \n",
        "y_train = keras.utils.to_categorical(y_train, num_classes)\n",
        "y_test = keras.utils.to_categorical(y_test, num_classes)"
      ],
      "execution_count": 5,
      "outputs": [
        {
          "output_type": "stream",
          "text": [
            "Downloading data from https://www.cs.toronto.edu/~kriz/cifar-10-python.tar.gz\n",
            "170500096/170498071 [==============================] - 34s 0us/step\n"
          ],
          "name": "stdout"
        }
      ]
    },
    {
      "metadata": {
        "id": "ee-sge5Kg7vr",
        "colab_type": "code",
        "colab": {
          "autoexec": {
            "startup": false,
            "wait_interval": 0
          }
        }
      },
      "cell_type": "code",
      "source": [
        "# Dense Block\n",
        "def add_denseblock(input, num_filter = 24, dropout_rate = 0.2):\n",
        "    global compression\n",
        "    temp = input\n",
        "    for _ in range(l):\n",
        "        BatchNorm = BatchNormalization()(temp)\n",
        "        relu = Activation('relu')(BatchNorm)\n",
        "        Conv2D_3_3 = Conv2D(int(num_filter*compression), (3,3), use_bias=False ,padding='same')(relu)\n",
        "        if dropout_rate>0:\n",
        "          Conv2D_3_3 = Dropout(dropout_rate)(Conv2D_3_3)\n",
        "        concat = Concatenate(axis=-1)([temp,Conv2D_3_3])\n",
        "        \n",
        "        temp = concat\n",
        "        \n",
        "    return temp"
      ],
      "execution_count": 0,
      "outputs": []
    },
    {
      "metadata": {
        "id": "OOP6IPsGhBwb",
        "colab_type": "code",
        "colab": {
          "autoexec": {
            "startup": false,
            "wait_interval": 0
          }
        }
      },
      "cell_type": "code",
      "source": [
        "def add_transition(input, num_filter = 24, dropout_rate = 0.2):\n",
        "    global compression\n",
        "    BatchNorm = BatchNormalization()(input)\n",
        "    relu = Activation('relu')(BatchNorm)\n",
        "    Conv2D_BottleNeck = Conv2D(int(num_filter*compression), (1,1), use_bias=False ,padding='same')(relu)\n",
        "    if dropout_rate>0:\n",
        "      Conv2D_BottleNeck = Dropout(dropout_rate)(Conv2D_BottleNeck)\n",
        "    avg = AveragePooling2D(pool_size=(2,2))(Conv2D_BottleNeck)\n",
        "    \n",
        "    return avg"
      ],
      "execution_count": 0,
      "outputs": []
    },
    {
      "metadata": {
        "id": "0RaKFpubhDIC",
        "colab_type": "code",
        "colab": {
          "autoexec": {
            "startup": false,
            "wait_interval": 0
          }
        }
      },
      "cell_type": "code",
      "source": [
        "def output_layer(input):\n",
        "    global compression\n",
        "    BatchNorm = BatchNormalization()(input)\n",
        "    relu = Activation('relu')(BatchNorm)\n",
        "    AvgPooling = AveragePooling2D(pool_size=(2,2))(relu)\n",
        "    flat = Flatten()(AvgPooling)\n",
        "    output = Dense(num_classes, activation='softmax')(flat)\n",
        "    \n",
        "    return output"
      ],
      "execution_count": 0,
      "outputs": []
    },
    {
      "metadata": {
        "id": "anPCpQWhhGb7",
        "colab_type": "code",
        "colab": {
          "autoexec": {
            "startup": false,
            "wait_interval": 0
          }
        }
      },
      "cell_type": "code",
      "source": [
        "num_filter = 24\n",
        "dropout_rate = 0.2\n",
        "l = 12\n",
        "input = Input(shape=(img_height, img_width, channel,))\n",
        "First_Conv2D = Conv2D(num_filter, (3,3), use_bias=False ,padding='same')(input)\n",
        "\n",
        "First_Block = add_denseblock(First_Conv2D, num_filter, dropout_rate)\n",
        "First_Transition = add_transition(First_Block, num_filter, dropout_rate)\n",
        "\n",
        "Second_Block = add_denseblock(First_Transition, num_filter, dropout_rate)\n",
        "Second_Transition = add_transition(Second_Block, num_filter, dropout_rate)\n",
        "\n",
        "Third_Block = add_denseblock(Second_Transition, num_filter, dropout_rate)\n",
        "Third_Transition = add_transition(Third_Block, num_filter, dropout_rate)\n",
        "\n",
        "Last_Block = add_denseblock(Third_Transition,  num_filter, dropout_rate)\n",
        "output = output_layer(Last_Block)\n"
      ],
      "execution_count": 0,
      "outputs": []
    },
    {
      "metadata": {
        "id": "1kFh7pdxhNtT",
        "colab_type": "code",
        "colab": {
          "autoexec": {
            "startup": false,
            "wait_interval": 0
          },
          "base_uri": "https://localhost:8080/",
          "height": 9744
        },
        "outputId": "268d1769-530b-49d3-a121-f0e24950502a",
        "executionInfo": {
          "status": "ok",
          "timestamp": 1526445485527,
          "user_tz": -330,
          "elapsed": 878,
          "user": {
            "displayName": "Mr.Lazy Man",
            "photoUrl": "//lh6.googleusercontent.com/-1Hw8zucqO6U/AAAAAAAAAAI/AAAAAAAAAhw/CfRaKuQoodA/s50-c-k-no/photo.jpg",
            "userId": "102521058597262944620"
          }
        }
      },
      "cell_type": "code",
      "source": [
        "model = Model(inputs=[input], outputs=[output])\n",
        "model.summary()"
      ],
      "execution_count": 10,
      "outputs": [
        {
          "output_type": "stream",
          "text": [
            "__________________________________________________________________________________________________\n",
            "Layer (type)                    Output Shape         Param #     Connected to                     \n",
            "==================================================================================================\n",
            "input_1 (InputLayer)            (None, 32, 32, 3)    0                                            \n",
            "__________________________________________________________________________________________________\n",
            "conv2d_1 (Conv2D)               (None, 32, 32, 24)   648         input_1[0][0]                    \n",
            "__________________________________________________________________________________________________\n",
            "batch_normalization_1 (BatchNor (None, 32, 32, 24)   96          conv2d_1[0][0]                   \n",
            "__________________________________________________________________________________________________\n",
            "activation_1 (Activation)       (None, 32, 32, 24)   0           batch_normalization_1[0][0]      \n",
            "__________________________________________________________________________________________________\n",
            "conv2d_2 (Conv2D)               (None, 32, 32, 14)   3024        activation_1[0][0]               \n",
            "__________________________________________________________________________________________________\n",
            "dropout_1 (Dropout)             (None, 32, 32, 14)   0           conv2d_2[0][0]                   \n",
            "__________________________________________________________________________________________________\n",
            "concatenate_1 (Concatenate)     (None, 32, 32, 38)   0           conv2d_1[0][0]                   \n",
            "                                                                 dropout_1[0][0]                  \n",
            "__________________________________________________________________________________________________\n",
            "batch_normalization_2 (BatchNor (None, 32, 32, 38)   152         concatenate_1[0][0]              \n",
            "__________________________________________________________________________________________________\n",
            "activation_2 (Activation)       (None, 32, 32, 38)   0           batch_normalization_2[0][0]      \n",
            "__________________________________________________________________________________________________\n",
            "conv2d_3 (Conv2D)               (None, 32, 32, 14)   4788        activation_2[0][0]               \n",
            "__________________________________________________________________________________________________\n",
            "dropout_2 (Dropout)             (None, 32, 32, 14)   0           conv2d_3[0][0]                   \n",
            "__________________________________________________________________________________________________\n",
            "concatenate_2 (Concatenate)     (None, 32, 32, 52)   0           concatenate_1[0][0]              \n",
            "                                                                 dropout_2[0][0]                  \n",
            "__________________________________________________________________________________________________\n",
            "batch_normalization_3 (BatchNor (None, 32, 32, 52)   208         concatenate_2[0][0]              \n",
            "__________________________________________________________________________________________________\n",
            "activation_3 (Activation)       (None, 32, 32, 52)   0           batch_normalization_3[0][0]      \n",
            "__________________________________________________________________________________________________\n",
            "conv2d_4 (Conv2D)               (None, 32, 32, 14)   6552        activation_3[0][0]               \n",
            "__________________________________________________________________________________________________\n",
            "dropout_3 (Dropout)             (None, 32, 32, 14)   0           conv2d_4[0][0]                   \n",
            "__________________________________________________________________________________________________\n",
            "concatenate_3 (Concatenate)     (None, 32, 32, 66)   0           concatenate_2[0][0]              \n",
            "                                                                 dropout_3[0][0]                  \n",
            "__________________________________________________________________________________________________\n",
            "batch_normalization_4 (BatchNor (None, 32, 32, 66)   264         concatenate_3[0][0]              \n",
            "__________________________________________________________________________________________________\n",
            "activation_4 (Activation)       (None, 32, 32, 66)   0           batch_normalization_4[0][0]      \n",
            "__________________________________________________________________________________________________\n",
            "conv2d_5 (Conv2D)               (None, 32, 32, 14)   8316        activation_4[0][0]               \n",
            "__________________________________________________________________________________________________\n",
            "dropout_4 (Dropout)             (None, 32, 32, 14)   0           conv2d_5[0][0]                   \n",
            "__________________________________________________________________________________________________\n",
            "concatenate_4 (Concatenate)     (None, 32, 32, 80)   0           concatenate_3[0][0]              \n",
            "                                                                 dropout_4[0][0]                  \n",
            "__________________________________________________________________________________________________\n",
            "batch_normalization_5 (BatchNor (None, 32, 32, 80)   320         concatenate_4[0][0]              \n",
            "__________________________________________________________________________________________________\n",
            "activation_5 (Activation)       (None, 32, 32, 80)   0           batch_normalization_5[0][0]      \n",
            "__________________________________________________________________________________________________\n",
            "conv2d_6 (Conv2D)               (None, 32, 32, 14)   10080       activation_5[0][0]               \n",
            "__________________________________________________________________________________________________\n",
            "dropout_5 (Dropout)             (None, 32, 32, 14)   0           conv2d_6[0][0]                   \n",
            "__________________________________________________________________________________________________\n",
            "concatenate_5 (Concatenate)     (None, 32, 32, 94)   0           concatenate_4[0][0]              \n",
            "                                                                 dropout_5[0][0]                  \n",
            "__________________________________________________________________________________________________\n",
            "batch_normalization_6 (BatchNor (None, 32, 32, 94)   376         concatenate_5[0][0]              \n",
            "__________________________________________________________________________________________________\n",
            "activation_6 (Activation)       (None, 32, 32, 94)   0           batch_normalization_6[0][0]      \n",
            "__________________________________________________________________________________________________\n",
            "conv2d_7 (Conv2D)               (None, 32, 32, 14)   11844       activation_6[0][0]               \n",
            "__________________________________________________________________________________________________\n",
            "dropout_6 (Dropout)             (None, 32, 32, 14)   0           conv2d_7[0][0]                   \n",
            "__________________________________________________________________________________________________\n",
            "concatenate_6 (Concatenate)     (None, 32, 32, 108)  0           concatenate_5[0][0]              \n",
            "                                                                 dropout_6[0][0]                  \n",
            "__________________________________________________________________________________________________\n",
            "batch_normalization_7 (BatchNor (None, 32, 32, 108)  432         concatenate_6[0][0]              \n",
            "__________________________________________________________________________________________________\n",
            "activation_7 (Activation)       (None, 32, 32, 108)  0           batch_normalization_7[0][0]      \n",
            "__________________________________________________________________________________________________\n",
            "conv2d_8 (Conv2D)               (None, 32, 32, 14)   13608       activation_7[0][0]               \n",
            "__________________________________________________________________________________________________\n",
            "dropout_7 (Dropout)             (None, 32, 32, 14)   0           conv2d_8[0][0]                   \n",
            "__________________________________________________________________________________________________\n",
            "concatenate_7 (Concatenate)     (None, 32, 32, 122)  0           concatenate_6[0][0]              \n",
            "                                                                 dropout_7[0][0]                  \n",
            "__________________________________________________________________________________________________\n",
            "batch_normalization_8 (BatchNor (None, 32, 32, 122)  488         concatenate_7[0][0]              \n",
            "__________________________________________________________________________________________________\n",
            "activation_8 (Activation)       (None, 32, 32, 122)  0           batch_normalization_8[0][0]      \n",
            "__________________________________________________________________________________________________\n",
            "conv2d_9 (Conv2D)               (None, 32, 32, 14)   15372       activation_8[0][0]               \n",
            "__________________________________________________________________________________________________\n",
            "dropout_8 (Dropout)             (None, 32, 32, 14)   0           conv2d_9[0][0]                   \n",
            "__________________________________________________________________________________________________\n",
            "concatenate_8 (Concatenate)     (None, 32, 32, 136)  0           concatenate_7[0][0]              \n",
            "                                                                 dropout_8[0][0]                  \n",
            "__________________________________________________________________________________________________\n",
            "batch_normalization_9 (BatchNor (None, 32, 32, 136)  544         concatenate_8[0][0]              \n",
            "__________________________________________________________________________________________________\n",
            "activation_9 (Activation)       (None, 32, 32, 136)  0           batch_normalization_9[0][0]      \n",
            "__________________________________________________________________________________________________\n",
            "conv2d_10 (Conv2D)              (None, 32, 32, 14)   17136       activation_9[0][0]               \n",
            "__________________________________________________________________________________________________\n",
            "dropout_9 (Dropout)             (None, 32, 32, 14)   0           conv2d_10[0][0]                  \n",
            "__________________________________________________________________________________________________\n",
            "concatenate_9 (Concatenate)     (None, 32, 32, 150)  0           concatenate_8[0][0]              \n",
            "                                                                 dropout_9[0][0]                  \n",
            "__________________________________________________________________________________________________\n",
            "batch_normalization_10 (BatchNo (None, 32, 32, 150)  600         concatenate_9[0][0]              \n",
            "__________________________________________________________________________________________________\n",
            "activation_10 (Activation)      (None, 32, 32, 150)  0           batch_normalization_10[0][0]     \n",
            "__________________________________________________________________________________________________\n",
            "conv2d_11 (Conv2D)              (None, 32, 32, 14)   18900       activation_10[0][0]              \n",
            "__________________________________________________________________________________________________\n",
            "dropout_10 (Dropout)            (None, 32, 32, 14)   0           conv2d_11[0][0]                  \n",
            "__________________________________________________________________________________________________\n",
            "concatenate_10 (Concatenate)    (None, 32, 32, 164)  0           concatenate_9[0][0]              \n",
            "                                                                 dropout_10[0][0]                 \n",
            "__________________________________________________________________________________________________\n",
            "batch_normalization_11 (BatchNo (None, 32, 32, 164)  656         concatenate_10[0][0]             \n",
            "__________________________________________________________________________________________________\n",
            "activation_11 (Activation)      (None, 32, 32, 164)  0           batch_normalization_11[0][0]     \n",
            "__________________________________________________________________________________________________\n",
            "conv2d_12 (Conv2D)              (None, 32, 32, 14)   20664       activation_11[0][0]              \n",
            "__________________________________________________________________________________________________\n",
            "dropout_11 (Dropout)            (None, 32, 32, 14)   0           conv2d_12[0][0]                  \n",
            "__________________________________________________________________________________________________\n",
            "concatenate_11 (Concatenate)    (None, 32, 32, 178)  0           concatenate_10[0][0]             \n",
            "                                                                 dropout_11[0][0]                 \n",
            "__________________________________________________________________________________________________\n",
            "batch_normalization_12 (BatchNo (None, 32, 32, 178)  712         concatenate_11[0][0]             \n",
            "__________________________________________________________________________________________________\n",
            "activation_12 (Activation)      (None, 32, 32, 178)  0           batch_normalization_12[0][0]     \n",
            "__________________________________________________________________________________________________\n",
            "conv2d_13 (Conv2D)              (None, 32, 32, 14)   22428       activation_12[0][0]              \n",
            "__________________________________________________________________________________________________\n",
            "dropout_12 (Dropout)            (None, 32, 32, 14)   0           conv2d_13[0][0]                  \n",
            "__________________________________________________________________________________________________\n",
            "concatenate_12 (Concatenate)    (None, 32, 32, 192)  0           concatenate_11[0][0]             \n",
            "                                                                 dropout_12[0][0]                 \n",
            "__________________________________________________________________________________________________\n",
            "batch_normalization_13 (BatchNo (None, 32, 32, 192)  768         concatenate_12[0][0]             \n",
            "__________________________________________________________________________________________________\n",
            "activation_13 (Activation)      (None, 32, 32, 192)  0           batch_normalization_13[0][0]     \n",
            "__________________________________________________________________________________________________\n",
            "conv2d_14 (Conv2D)              (None, 32, 32, 14)   2688        activation_13[0][0]              \n",
            "__________________________________________________________________________________________________\n",
            "dropout_13 (Dropout)            (None, 32, 32, 14)   0           conv2d_14[0][0]                  \n",
            "__________________________________________________________________________________________________\n",
            "average_pooling2d_1 (AveragePoo (None, 16, 16, 14)   0           dropout_13[0][0]                 \n",
            "__________________________________________________________________________________________________\n",
            "batch_normalization_14 (BatchNo (None, 16, 16, 14)   56          average_pooling2d_1[0][0]        \n",
            "__________________________________________________________________________________________________\n",
            "activation_14 (Activation)      (None, 16, 16, 14)   0           batch_normalization_14[0][0]     \n",
            "__________________________________________________________________________________________________\n",
            "conv2d_15 (Conv2D)              (None, 16, 16, 14)   1764        activation_14[0][0]              \n",
            "__________________________________________________________________________________________________\n",
            "dropout_14 (Dropout)            (None, 16, 16, 14)   0           conv2d_15[0][0]                  \n",
            "__________________________________________________________________________________________________\n",
            "concatenate_13 (Concatenate)    (None, 16, 16, 28)   0           average_pooling2d_1[0][0]        \n",
            "                                                                 dropout_14[0][0]                 \n",
            "__________________________________________________________________________________________________\n",
            "batch_normalization_15 (BatchNo (None, 16, 16, 28)   112         concatenate_13[0][0]             \n",
            "__________________________________________________________________________________________________\n",
            "activation_15 (Activation)      (None, 16, 16, 28)   0           batch_normalization_15[0][0]     \n",
            "__________________________________________________________________________________________________\n",
            "conv2d_16 (Conv2D)              (None, 16, 16, 14)   3528        activation_15[0][0]              \n",
            "__________________________________________________________________________________________________\n",
            "dropout_15 (Dropout)            (None, 16, 16, 14)   0           conv2d_16[0][0]                  \n",
            "__________________________________________________________________________________________________\n",
            "concatenate_14 (Concatenate)    (None, 16, 16, 42)   0           concatenate_13[0][0]             \n",
            "                                                                 dropout_15[0][0]                 \n",
            "__________________________________________________________________________________________________\n",
            "batch_normalization_16 (BatchNo (None, 16, 16, 42)   168         concatenate_14[0][0]             \n",
            "__________________________________________________________________________________________________\n",
            "activation_16 (Activation)      (None, 16, 16, 42)   0           batch_normalization_16[0][0]     \n",
            "__________________________________________________________________________________________________\n",
            "conv2d_17 (Conv2D)              (None, 16, 16, 14)   5292        activation_16[0][0]              \n",
            "__________________________________________________________________________________________________\n",
            "dropout_16 (Dropout)            (None, 16, 16, 14)   0           conv2d_17[0][0]                  \n",
            "__________________________________________________________________________________________________\n",
            "concatenate_15 (Concatenate)    (None, 16, 16, 56)   0           concatenate_14[0][0]             \n",
            "                                                                 dropout_16[0][0]                 \n",
            "__________________________________________________________________________________________________\n",
            "batch_normalization_17 (BatchNo (None, 16, 16, 56)   224         concatenate_15[0][0]             \n",
            "__________________________________________________________________________________________________\n",
            "activation_17 (Activation)      (None, 16, 16, 56)   0           batch_normalization_17[0][0]     \n",
            "__________________________________________________________________________________________________\n",
            "conv2d_18 (Conv2D)              (None, 16, 16, 14)   7056        activation_17[0][0]              \n",
            "__________________________________________________________________________________________________\n",
            "dropout_17 (Dropout)            (None, 16, 16, 14)   0           conv2d_18[0][0]                  \n",
            "__________________________________________________________________________________________________\n",
            "concatenate_16 (Concatenate)    (None, 16, 16, 70)   0           concatenate_15[0][0]             \n",
            "                                                                 dropout_17[0][0]                 \n",
            "__________________________________________________________________________________________________\n",
            "batch_normalization_18 (BatchNo (None, 16, 16, 70)   280         concatenate_16[0][0]             \n",
            "__________________________________________________________________________________________________\n",
            "activation_18 (Activation)      (None, 16, 16, 70)   0           batch_normalization_18[0][0]     \n",
            "__________________________________________________________________________________________________\n",
            "conv2d_19 (Conv2D)              (None, 16, 16, 14)   8820        activation_18[0][0]              \n",
            "__________________________________________________________________________________________________\n",
            "dropout_18 (Dropout)            (None, 16, 16, 14)   0           conv2d_19[0][0]                  \n",
            "__________________________________________________________________________________________________\n",
            "concatenate_17 (Concatenate)    (None, 16, 16, 84)   0           concatenate_16[0][0]             \n",
            "                                                                 dropout_18[0][0]                 \n",
            "__________________________________________________________________________________________________\n",
            "batch_normalization_19 (BatchNo (None, 16, 16, 84)   336         concatenate_17[0][0]             \n",
            "__________________________________________________________________________________________________\n",
            "activation_19 (Activation)      (None, 16, 16, 84)   0           batch_normalization_19[0][0]     \n",
            "__________________________________________________________________________________________________\n",
            "conv2d_20 (Conv2D)              (None, 16, 16, 14)   10584       activation_19[0][0]              \n",
            "__________________________________________________________________________________________________\n",
            "dropout_19 (Dropout)            (None, 16, 16, 14)   0           conv2d_20[0][0]                  \n",
            "__________________________________________________________________________________________________\n",
            "concatenate_18 (Concatenate)    (None, 16, 16, 98)   0           concatenate_17[0][0]             \n",
            "                                                                 dropout_19[0][0]                 \n",
            "__________________________________________________________________________________________________\n",
            "batch_normalization_20 (BatchNo (None, 16, 16, 98)   392         concatenate_18[0][0]             \n",
            "__________________________________________________________________________________________________\n",
            "activation_20 (Activation)      (None, 16, 16, 98)   0           batch_normalization_20[0][0]     \n",
            "__________________________________________________________________________________________________\n",
            "conv2d_21 (Conv2D)              (None, 16, 16, 14)   12348       activation_20[0][0]              \n",
            "__________________________________________________________________________________________________\n",
            "dropout_20 (Dropout)            (None, 16, 16, 14)   0           conv2d_21[0][0]                  \n",
            "__________________________________________________________________________________________________\n",
            "concatenate_19 (Concatenate)    (None, 16, 16, 112)  0           concatenate_18[0][0]             \n",
            "                                                                 dropout_20[0][0]                 \n",
            "__________________________________________________________________________________________________\n",
            "batch_normalization_21 (BatchNo (None, 16, 16, 112)  448         concatenate_19[0][0]             \n",
            "__________________________________________________________________________________________________\n",
            "activation_21 (Activation)      (None, 16, 16, 112)  0           batch_normalization_21[0][0]     \n",
            "__________________________________________________________________________________________________\n",
            "conv2d_22 (Conv2D)              (None, 16, 16, 14)   14112       activation_21[0][0]              \n",
            "__________________________________________________________________________________________________\n",
            "dropout_21 (Dropout)            (None, 16, 16, 14)   0           conv2d_22[0][0]                  \n",
            "__________________________________________________________________________________________________\n",
            "concatenate_20 (Concatenate)    (None, 16, 16, 126)  0           concatenate_19[0][0]             \n",
            "                                                                 dropout_21[0][0]                 \n",
            "__________________________________________________________________________________________________\n",
            "batch_normalization_22 (BatchNo (None, 16, 16, 126)  504         concatenate_20[0][0]             \n",
            "__________________________________________________________________________________________________\n",
            "activation_22 (Activation)      (None, 16, 16, 126)  0           batch_normalization_22[0][0]     \n",
            "__________________________________________________________________________________________________\n",
            "conv2d_23 (Conv2D)              (None, 16, 16, 14)   15876       activation_22[0][0]              \n",
            "__________________________________________________________________________________________________\n",
            "dropout_22 (Dropout)            (None, 16, 16, 14)   0           conv2d_23[0][0]                  \n",
            "__________________________________________________________________________________________________\n",
            "concatenate_21 (Concatenate)    (None, 16, 16, 140)  0           concatenate_20[0][0]             \n",
            "                                                                 dropout_22[0][0]                 \n",
            "__________________________________________________________________________________________________\n",
            "batch_normalization_23 (BatchNo (None, 16, 16, 140)  560         concatenate_21[0][0]             \n",
            "__________________________________________________________________________________________________\n",
            "activation_23 (Activation)      (None, 16, 16, 140)  0           batch_normalization_23[0][0]     \n",
            "__________________________________________________________________________________________________\n",
            "conv2d_24 (Conv2D)              (None, 16, 16, 14)   17640       activation_23[0][0]              \n",
            "__________________________________________________________________________________________________\n",
            "dropout_23 (Dropout)            (None, 16, 16, 14)   0           conv2d_24[0][0]                  \n",
            "__________________________________________________________________________________________________\n",
            "concatenate_22 (Concatenate)    (None, 16, 16, 154)  0           concatenate_21[0][0]             \n",
            "                                                                 dropout_23[0][0]                 \n",
            "__________________________________________________________________________________________________\n",
            "batch_normalization_24 (BatchNo (None, 16, 16, 154)  616         concatenate_22[0][0]             \n",
            "__________________________________________________________________________________________________\n",
            "activation_24 (Activation)      (None, 16, 16, 154)  0           batch_normalization_24[0][0]     \n",
            "__________________________________________________________________________________________________\n",
            "conv2d_25 (Conv2D)              (None, 16, 16, 14)   19404       activation_24[0][0]              \n",
            "__________________________________________________________________________________________________\n",
            "dropout_24 (Dropout)            (None, 16, 16, 14)   0           conv2d_25[0][0]                  \n",
            "__________________________________________________________________________________________________\n",
            "concatenate_23 (Concatenate)    (None, 16, 16, 168)  0           concatenate_22[0][0]             \n",
            "                                                                 dropout_24[0][0]                 \n",
            "__________________________________________________________________________________________________\n",
            "batch_normalization_25 (BatchNo (None, 16, 16, 168)  672         concatenate_23[0][0]             \n",
            "__________________________________________________________________________________________________\n",
            "activation_25 (Activation)      (None, 16, 16, 168)  0           batch_normalization_25[0][0]     \n",
            "__________________________________________________________________________________________________\n",
            "conv2d_26 (Conv2D)              (None, 16, 16, 14)   21168       activation_25[0][0]              \n",
            "__________________________________________________________________________________________________\n",
            "dropout_25 (Dropout)            (None, 16, 16, 14)   0           conv2d_26[0][0]                  \n",
            "__________________________________________________________________________________________________\n",
            "concatenate_24 (Concatenate)    (None, 16, 16, 182)  0           concatenate_23[0][0]             \n",
            "                                                                 dropout_25[0][0]                 \n",
            "__________________________________________________________________________________________________\n",
            "batch_normalization_26 (BatchNo (None, 16, 16, 182)  728         concatenate_24[0][0]             \n",
            "__________________________________________________________________________________________________\n",
            "activation_26 (Activation)      (None, 16, 16, 182)  0           batch_normalization_26[0][0]     \n",
            "__________________________________________________________________________________________________\n",
            "conv2d_27 (Conv2D)              (None, 16, 16, 14)   2548        activation_26[0][0]              \n",
            "__________________________________________________________________________________________________\n",
            "dropout_26 (Dropout)            (None, 16, 16, 14)   0           conv2d_27[0][0]                  \n",
            "__________________________________________________________________________________________________\n",
            "average_pooling2d_2 (AveragePoo (None, 8, 8, 14)     0           dropout_26[0][0]                 \n",
            "__________________________________________________________________________________________________\n",
            "batch_normalization_27 (BatchNo (None, 8, 8, 14)     56          average_pooling2d_2[0][0]        \n",
            "__________________________________________________________________________________________________\n",
            "activation_27 (Activation)      (None, 8, 8, 14)     0           batch_normalization_27[0][0]     \n",
            "__________________________________________________________________________________________________\n",
            "conv2d_28 (Conv2D)              (None, 8, 8, 14)     1764        activation_27[0][0]              \n",
            "__________________________________________________________________________________________________\n",
            "dropout_27 (Dropout)            (None, 8, 8, 14)     0           conv2d_28[0][0]                  \n",
            "__________________________________________________________________________________________________\n",
            "concatenate_25 (Concatenate)    (None, 8, 8, 28)     0           average_pooling2d_2[0][0]        \n",
            "                                                                 dropout_27[0][0]                 \n",
            "__________________________________________________________________________________________________\n",
            "batch_normalization_28 (BatchNo (None, 8, 8, 28)     112         concatenate_25[0][0]             \n",
            "__________________________________________________________________________________________________\n",
            "activation_28 (Activation)      (None, 8, 8, 28)     0           batch_normalization_28[0][0]     \n",
            "__________________________________________________________________________________________________\n",
            "conv2d_29 (Conv2D)              (None, 8, 8, 14)     3528        activation_28[0][0]              \n",
            "__________________________________________________________________________________________________\n",
            "dropout_28 (Dropout)            (None, 8, 8, 14)     0           conv2d_29[0][0]                  \n",
            "__________________________________________________________________________________________________\n",
            "concatenate_26 (Concatenate)    (None, 8, 8, 42)     0           concatenate_25[0][0]             \n",
            "                                                                 dropout_28[0][0]                 \n",
            "__________________________________________________________________________________________________\n",
            "batch_normalization_29 (BatchNo (None, 8, 8, 42)     168         concatenate_26[0][0]             \n",
            "__________________________________________________________________________________________________\n",
            "activation_29 (Activation)      (None, 8, 8, 42)     0           batch_normalization_29[0][0]     \n",
            "__________________________________________________________________________________________________\n",
            "conv2d_30 (Conv2D)              (None, 8, 8, 14)     5292        activation_29[0][0]              \n",
            "__________________________________________________________________________________________________\n",
            "dropout_29 (Dropout)            (None, 8, 8, 14)     0           conv2d_30[0][0]                  \n",
            "__________________________________________________________________________________________________\n",
            "concatenate_27 (Concatenate)    (None, 8, 8, 56)     0           concatenate_26[0][0]             \n",
            "                                                                 dropout_29[0][0]                 \n",
            "__________________________________________________________________________________________________\n",
            "batch_normalization_30 (BatchNo (None, 8, 8, 56)     224         concatenate_27[0][0]             \n",
            "__________________________________________________________________________________________________\n",
            "activation_30 (Activation)      (None, 8, 8, 56)     0           batch_normalization_30[0][0]     \n",
            "__________________________________________________________________________________________________\n",
            "conv2d_31 (Conv2D)              (None, 8, 8, 14)     7056        activation_30[0][0]              \n",
            "__________________________________________________________________________________________________\n",
            "dropout_30 (Dropout)            (None, 8, 8, 14)     0           conv2d_31[0][0]                  \n",
            "__________________________________________________________________________________________________\n",
            "concatenate_28 (Concatenate)    (None, 8, 8, 70)     0           concatenate_27[0][0]             \n",
            "                                                                 dropout_30[0][0]                 \n",
            "__________________________________________________________________________________________________\n",
            "batch_normalization_31 (BatchNo (None, 8, 8, 70)     280         concatenate_28[0][0]             \n",
            "__________________________________________________________________________________________________\n",
            "activation_31 (Activation)      (None, 8, 8, 70)     0           batch_normalization_31[0][0]     \n",
            "__________________________________________________________________________________________________\n",
            "conv2d_32 (Conv2D)              (None, 8, 8, 14)     8820        activation_31[0][0]              \n",
            "__________________________________________________________________________________________________\n",
            "dropout_31 (Dropout)            (None, 8, 8, 14)     0           conv2d_32[0][0]                  \n",
            "__________________________________________________________________________________________________\n",
            "concatenate_29 (Concatenate)    (None, 8, 8, 84)     0           concatenate_28[0][0]             \n",
            "                                                                 dropout_31[0][0]                 \n",
            "__________________________________________________________________________________________________\n",
            "batch_normalization_32 (BatchNo (None, 8, 8, 84)     336         concatenate_29[0][0]             \n",
            "__________________________________________________________________________________________________\n",
            "activation_32 (Activation)      (None, 8, 8, 84)     0           batch_normalization_32[0][0]     \n",
            "__________________________________________________________________________________________________\n",
            "conv2d_33 (Conv2D)              (None, 8, 8, 14)     10584       activation_32[0][0]              \n",
            "__________________________________________________________________________________________________\n",
            "dropout_32 (Dropout)            (None, 8, 8, 14)     0           conv2d_33[0][0]                  \n",
            "__________________________________________________________________________________________________\n",
            "concatenate_30 (Concatenate)    (None, 8, 8, 98)     0           concatenate_29[0][0]             \n",
            "                                                                 dropout_32[0][0]                 \n",
            "__________________________________________________________________________________________________\n",
            "batch_normalization_33 (BatchNo (None, 8, 8, 98)     392         concatenate_30[0][0]             \n",
            "__________________________________________________________________________________________________\n",
            "activation_33 (Activation)      (None, 8, 8, 98)     0           batch_normalization_33[0][0]     \n",
            "__________________________________________________________________________________________________\n",
            "conv2d_34 (Conv2D)              (None, 8, 8, 14)     12348       activation_33[0][0]              \n",
            "__________________________________________________________________________________________________\n",
            "dropout_33 (Dropout)            (None, 8, 8, 14)     0           conv2d_34[0][0]                  \n",
            "__________________________________________________________________________________________________\n",
            "concatenate_31 (Concatenate)    (None, 8, 8, 112)    0           concatenate_30[0][0]             \n",
            "                                                                 dropout_33[0][0]                 \n",
            "__________________________________________________________________________________________________\n",
            "batch_normalization_34 (BatchNo (None, 8, 8, 112)    448         concatenate_31[0][0]             \n",
            "__________________________________________________________________________________________________\n",
            "activation_34 (Activation)      (None, 8, 8, 112)    0           batch_normalization_34[0][0]     \n",
            "__________________________________________________________________________________________________\n",
            "conv2d_35 (Conv2D)              (None, 8, 8, 14)     14112       activation_34[0][0]              \n",
            "__________________________________________________________________________________________________\n",
            "dropout_34 (Dropout)            (None, 8, 8, 14)     0           conv2d_35[0][0]                  \n",
            "__________________________________________________________________________________________________\n",
            "concatenate_32 (Concatenate)    (None, 8, 8, 126)    0           concatenate_31[0][0]             \n",
            "                                                                 dropout_34[0][0]                 \n",
            "__________________________________________________________________________________________________\n",
            "batch_normalization_35 (BatchNo (None, 8, 8, 126)    504         concatenate_32[0][0]             \n",
            "__________________________________________________________________________________________________\n",
            "activation_35 (Activation)      (None, 8, 8, 126)    0           batch_normalization_35[0][0]     \n",
            "__________________________________________________________________________________________________\n",
            "conv2d_36 (Conv2D)              (None, 8, 8, 14)     15876       activation_35[0][0]              \n",
            "__________________________________________________________________________________________________\n",
            "dropout_35 (Dropout)            (None, 8, 8, 14)     0           conv2d_36[0][0]                  \n",
            "__________________________________________________________________________________________________\n",
            "concatenate_33 (Concatenate)    (None, 8, 8, 140)    0           concatenate_32[0][0]             \n",
            "                                                                 dropout_35[0][0]                 \n",
            "__________________________________________________________________________________________________\n",
            "batch_normalization_36 (BatchNo (None, 8, 8, 140)    560         concatenate_33[0][0]             \n",
            "__________________________________________________________________________________________________\n",
            "activation_36 (Activation)      (None, 8, 8, 140)    0           batch_normalization_36[0][0]     \n",
            "__________________________________________________________________________________________________\n",
            "conv2d_37 (Conv2D)              (None, 8, 8, 14)     17640       activation_36[0][0]              \n",
            "__________________________________________________________________________________________________\n",
            "dropout_36 (Dropout)            (None, 8, 8, 14)     0           conv2d_37[0][0]                  \n",
            "__________________________________________________________________________________________________\n",
            "concatenate_34 (Concatenate)    (None, 8, 8, 154)    0           concatenate_33[0][0]             \n",
            "                                                                 dropout_36[0][0]                 \n",
            "__________________________________________________________________________________________________\n",
            "batch_normalization_37 (BatchNo (None, 8, 8, 154)    616         concatenate_34[0][0]             \n",
            "__________________________________________________________________________________________________\n",
            "activation_37 (Activation)      (None, 8, 8, 154)    0           batch_normalization_37[0][0]     \n",
            "__________________________________________________________________________________________________\n",
            "conv2d_38 (Conv2D)              (None, 8, 8, 14)     19404       activation_37[0][0]              \n",
            "__________________________________________________________________________________________________\n",
            "dropout_37 (Dropout)            (None, 8, 8, 14)     0           conv2d_38[0][0]                  \n",
            "__________________________________________________________________________________________________\n",
            "concatenate_35 (Concatenate)    (None, 8, 8, 168)    0           concatenate_34[0][0]             \n",
            "                                                                 dropout_37[0][0]                 \n",
            "__________________________________________________________________________________________________\n",
            "batch_normalization_38 (BatchNo (None, 8, 8, 168)    672         concatenate_35[0][0]             \n",
            "__________________________________________________________________________________________________\n",
            "activation_38 (Activation)      (None, 8, 8, 168)    0           batch_normalization_38[0][0]     \n",
            "__________________________________________________________________________________________________\n",
            "conv2d_39 (Conv2D)              (None, 8, 8, 14)     21168       activation_38[0][0]              \n",
            "__________________________________________________________________________________________________\n",
            "dropout_38 (Dropout)            (None, 8, 8, 14)     0           conv2d_39[0][0]                  \n",
            "__________________________________________________________________________________________________\n",
            "concatenate_36 (Concatenate)    (None, 8, 8, 182)    0           concatenate_35[0][0]             \n",
            "                                                                 dropout_38[0][0]                 \n",
            "__________________________________________________________________________________________________\n",
            "batch_normalization_39 (BatchNo (None, 8, 8, 182)    728         concatenate_36[0][0]             \n",
            "__________________________________________________________________________________________________\n",
            "activation_39 (Activation)      (None, 8, 8, 182)    0           batch_normalization_39[0][0]     \n",
            "__________________________________________________________________________________________________\n",
            "conv2d_40 (Conv2D)              (None, 8, 8, 14)     2548        activation_39[0][0]              \n",
            "__________________________________________________________________________________________________\n",
            "dropout_39 (Dropout)            (None, 8, 8, 14)     0           conv2d_40[0][0]                  \n",
            "__________________________________________________________________________________________________\n",
            "average_pooling2d_3 (AveragePoo (None, 4, 4, 14)     0           dropout_39[0][0]                 \n",
            "__________________________________________________________________________________________________\n",
            "batch_normalization_40 (BatchNo (None, 4, 4, 14)     56          average_pooling2d_3[0][0]        \n",
            "__________________________________________________________________________________________________\n",
            "activation_40 (Activation)      (None, 4, 4, 14)     0           batch_normalization_40[0][0]     \n",
            "__________________________________________________________________________________________________\n",
            "conv2d_41 (Conv2D)              (None, 4, 4, 14)     1764        activation_40[0][0]              \n",
            "__________________________________________________________________________________________________\n",
            "dropout_40 (Dropout)            (None, 4, 4, 14)     0           conv2d_41[0][0]                  \n",
            "__________________________________________________________________________________________________\n",
            "concatenate_37 (Concatenate)    (None, 4, 4, 28)     0           average_pooling2d_3[0][0]        \n",
            "                                                                 dropout_40[0][0]                 \n",
            "__________________________________________________________________________________________________\n",
            "batch_normalization_41 (BatchNo (None, 4, 4, 28)     112         concatenate_37[0][0]             \n",
            "__________________________________________________________________________________________________\n",
            "activation_41 (Activation)      (None, 4, 4, 28)     0           batch_normalization_41[0][0]     \n",
            "__________________________________________________________________________________________________\n",
            "conv2d_42 (Conv2D)              (None, 4, 4, 14)     3528        activation_41[0][0]              \n",
            "__________________________________________________________________________________________________\n",
            "dropout_41 (Dropout)            (None, 4, 4, 14)     0           conv2d_42[0][0]                  \n",
            "__________________________________________________________________________________________________\n",
            "concatenate_38 (Concatenate)    (None, 4, 4, 42)     0           concatenate_37[0][0]             \n",
            "                                                                 dropout_41[0][0]                 \n",
            "__________________________________________________________________________________________________\n",
            "batch_normalization_42 (BatchNo (None, 4, 4, 42)     168         concatenate_38[0][0]             \n",
            "__________________________________________________________________________________________________\n",
            "activation_42 (Activation)      (None, 4, 4, 42)     0           batch_normalization_42[0][0]     \n",
            "__________________________________________________________________________________________________\n",
            "conv2d_43 (Conv2D)              (None, 4, 4, 14)     5292        activation_42[0][0]              \n",
            "__________________________________________________________________________________________________\n",
            "dropout_42 (Dropout)            (None, 4, 4, 14)     0           conv2d_43[0][0]                  \n",
            "__________________________________________________________________________________________________\n",
            "concatenate_39 (Concatenate)    (None, 4, 4, 56)     0           concatenate_38[0][0]             \n",
            "                                                                 dropout_42[0][0]                 \n",
            "__________________________________________________________________________________________________\n",
            "batch_normalization_43 (BatchNo (None, 4, 4, 56)     224         concatenate_39[0][0]             \n",
            "__________________________________________________________________________________________________\n",
            "activation_43 (Activation)      (None, 4, 4, 56)     0           batch_normalization_43[0][0]     \n",
            "__________________________________________________________________________________________________\n",
            "conv2d_44 (Conv2D)              (None, 4, 4, 14)     7056        activation_43[0][0]              \n",
            "__________________________________________________________________________________________________\n",
            "dropout_43 (Dropout)            (None, 4, 4, 14)     0           conv2d_44[0][0]                  \n",
            "__________________________________________________________________________________________________\n",
            "concatenate_40 (Concatenate)    (None, 4, 4, 70)     0           concatenate_39[0][0]             \n",
            "                                                                 dropout_43[0][0]                 \n",
            "__________________________________________________________________________________________________\n",
            "batch_normalization_44 (BatchNo (None, 4, 4, 70)     280         concatenate_40[0][0]             \n",
            "__________________________________________________________________________________________________\n",
            "activation_44 (Activation)      (None, 4, 4, 70)     0           batch_normalization_44[0][0]     \n",
            "__________________________________________________________________________________________________\n",
            "conv2d_45 (Conv2D)              (None, 4, 4, 14)     8820        activation_44[0][0]              \n",
            "__________________________________________________________________________________________________\n",
            "dropout_44 (Dropout)            (None, 4, 4, 14)     0           conv2d_45[0][0]                  \n",
            "__________________________________________________________________________________________________\n",
            "concatenate_41 (Concatenate)    (None, 4, 4, 84)     0           concatenate_40[0][0]             \n",
            "                                                                 dropout_44[0][0]                 \n",
            "__________________________________________________________________________________________________\n",
            "batch_normalization_45 (BatchNo (None, 4, 4, 84)     336         concatenate_41[0][0]             \n",
            "__________________________________________________________________________________________________\n",
            "activation_45 (Activation)      (None, 4, 4, 84)     0           batch_normalization_45[0][0]     \n",
            "__________________________________________________________________________________________________\n",
            "conv2d_46 (Conv2D)              (None, 4, 4, 14)     10584       activation_45[0][0]              \n",
            "__________________________________________________________________________________________________\n",
            "dropout_45 (Dropout)            (None, 4, 4, 14)     0           conv2d_46[0][0]                  \n",
            "__________________________________________________________________________________________________\n",
            "concatenate_42 (Concatenate)    (None, 4, 4, 98)     0           concatenate_41[0][0]             \n",
            "                                                                 dropout_45[0][0]                 \n",
            "__________________________________________________________________________________________________\n",
            "batch_normalization_46 (BatchNo (None, 4, 4, 98)     392         concatenate_42[0][0]             \n",
            "__________________________________________________________________________________________________\n",
            "activation_46 (Activation)      (None, 4, 4, 98)     0           batch_normalization_46[0][0]     \n",
            "__________________________________________________________________________________________________\n",
            "conv2d_47 (Conv2D)              (None, 4, 4, 14)     12348       activation_46[0][0]              \n",
            "__________________________________________________________________________________________________\n",
            "dropout_46 (Dropout)            (None, 4, 4, 14)     0           conv2d_47[0][0]                  \n",
            "__________________________________________________________________________________________________\n",
            "concatenate_43 (Concatenate)    (None, 4, 4, 112)    0           concatenate_42[0][0]             \n",
            "                                                                 dropout_46[0][0]                 \n",
            "__________________________________________________________________________________________________\n",
            "batch_normalization_47 (BatchNo (None, 4, 4, 112)    448         concatenate_43[0][0]             \n",
            "__________________________________________________________________________________________________\n",
            "activation_47 (Activation)      (None, 4, 4, 112)    0           batch_normalization_47[0][0]     \n",
            "__________________________________________________________________________________________________\n",
            "conv2d_48 (Conv2D)              (None, 4, 4, 14)     14112       activation_47[0][0]              \n",
            "__________________________________________________________________________________________________\n",
            "dropout_47 (Dropout)            (None, 4, 4, 14)     0           conv2d_48[0][0]                  \n",
            "__________________________________________________________________________________________________\n",
            "concatenate_44 (Concatenate)    (None, 4, 4, 126)    0           concatenate_43[0][0]             \n",
            "                                                                 dropout_47[0][0]                 \n",
            "__________________________________________________________________________________________________\n",
            "batch_normalization_48 (BatchNo (None, 4, 4, 126)    504         concatenate_44[0][0]             \n",
            "__________________________________________________________________________________________________\n",
            "activation_48 (Activation)      (None, 4, 4, 126)    0           batch_normalization_48[0][0]     \n",
            "__________________________________________________________________________________________________\n",
            "conv2d_49 (Conv2D)              (None, 4, 4, 14)     15876       activation_48[0][0]              \n",
            "__________________________________________________________________________________________________\n",
            "dropout_48 (Dropout)            (None, 4, 4, 14)     0           conv2d_49[0][0]                  \n",
            "__________________________________________________________________________________________________\n",
            "concatenate_45 (Concatenate)    (None, 4, 4, 140)    0           concatenate_44[0][0]             \n",
            "                                                                 dropout_48[0][0]                 \n",
            "__________________________________________________________________________________________________\n",
            "batch_normalization_49 (BatchNo (None, 4, 4, 140)    560         concatenate_45[0][0]             \n",
            "__________________________________________________________________________________________________\n",
            "activation_49 (Activation)      (None, 4, 4, 140)    0           batch_normalization_49[0][0]     \n",
            "__________________________________________________________________________________________________\n",
            "conv2d_50 (Conv2D)              (None, 4, 4, 14)     17640       activation_49[0][0]              \n",
            "__________________________________________________________________________________________________\n",
            "dropout_49 (Dropout)            (None, 4, 4, 14)     0           conv2d_50[0][0]                  \n",
            "__________________________________________________________________________________________________\n",
            "concatenate_46 (Concatenate)    (None, 4, 4, 154)    0           concatenate_45[0][0]             \n",
            "                                                                 dropout_49[0][0]                 \n",
            "__________________________________________________________________________________________________\n",
            "batch_normalization_50 (BatchNo (None, 4, 4, 154)    616         concatenate_46[0][0]             \n",
            "__________________________________________________________________________________________________\n",
            "activation_50 (Activation)      (None, 4, 4, 154)    0           batch_normalization_50[0][0]     \n",
            "__________________________________________________________________________________________________\n",
            "conv2d_51 (Conv2D)              (None, 4, 4, 14)     19404       activation_50[0][0]              \n",
            "__________________________________________________________________________________________________\n",
            "dropout_50 (Dropout)            (None, 4, 4, 14)     0           conv2d_51[0][0]                  \n",
            "__________________________________________________________________________________________________\n",
            "concatenate_47 (Concatenate)    (None, 4, 4, 168)    0           concatenate_46[0][0]             \n",
            "                                                                 dropout_50[0][0]                 \n",
            "__________________________________________________________________________________________________\n",
            "batch_normalization_51 (BatchNo (None, 4, 4, 168)    672         concatenate_47[0][0]             \n",
            "__________________________________________________________________________________________________\n",
            "activation_51 (Activation)      (None, 4, 4, 168)    0           batch_normalization_51[0][0]     \n",
            "__________________________________________________________________________________________________\n",
            "conv2d_52 (Conv2D)              (None, 4, 4, 14)     21168       activation_51[0][0]              \n",
            "__________________________________________________________________________________________________\n",
            "dropout_51 (Dropout)            (None, 4, 4, 14)     0           conv2d_52[0][0]                  \n",
            "__________________________________________________________________________________________________\n",
            "concatenate_48 (Concatenate)    (None, 4, 4, 182)    0           concatenate_47[0][0]             \n",
            "                                                                 dropout_51[0][0]                 \n",
            "__________________________________________________________________________________________________\n",
            "batch_normalization_52 (BatchNo (None, 4, 4, 182)    728         concatenate_48[0][0]             \n",
            "__________________________________________________________________________________________________\n",
            "activation_52 (Activation)      (None, 4, 4, 182)    0           batch_normalization_52[0][0]     \n",
            "__________________________________________________________________________________________________\n",
            "average_pooling2d_4 (AveragePoo (None, 2, 2, 182)    0           activation_52[0][0]              \n",
            "__________________________________________________________________________________________________\n",
            "flatten_1 (Flatten)             (None, 728)          0           average_pooling2d_4[0][0]        \n",
            "__________________________________________________________________________________________________\n",
            "dense_1 (Dense)                 (None, 10)           7290        flatten_1[0][0]                  \n",
            "==================================================================================================\n",
            "Total params: 602,114\n",
            "Trainable params: 591,662\n",
            "Non-trainable params: 10,452\n",
            "__________________________________________________________________________________________________\n"
          ],
          "name": "stdout"
        }
      ]
    },
    {
      "metadata": {
        "id": "A7IRPakGOlIe",
        "colab_type": "code",
        "colab": {
          "autoexec": {
            "startup": false,
            "wait_interval": 0
          }
        }
      },
      "cell_type": "code",
      "source": [
        "#Data Augmentation\n",
        "from keras.preprocessing.image import ImageDataGenerator\n",
        "\n",
        "datagen = ImageDataGenerator(rotation_range=15,width_shift_range=0.1,\n",
        "                             height_shift_range=0.1,horizontal_flip=True)\n",
        "datagen.fit(x_train)"
      ],
      "execution_count": 0,
      "outputs": []
    },
    {
      "metadata": {
        "id": "b4XOsW3ahSkL",
        "colab_type": "code",
        "colab": {
          "autoexec": {
            "startup": false,
            "wait_interval": 0
          }
        }
      },
      "cell_type": "code",
      "source": [
        "# determine Loss function and Optimizer\n",
        "model.compile(loss='categorical_crossentropy',\n",
        "              optimizer=RMSprop(),\n",
        "              metrics=['accuracy'])"
      ],
      "execution_count": 0,
      "outputs": []
    },
    {
      "metadata": {
        "id": "aPL-qpgcN4Fu",
        "colab_type": "code",
        "colab": {
          "autoexec": {
            "startup": false,
            "wait_interval": 0
          },
          "base_uri": "https://localhost:8080/",
          "height": 34
        },
        "outputId": "98a0d414-dbc0-4357-beda-060299fb609b",
        "executionInfo": {
          "status": "ok",
          "timestamp": 1526445713866,
          "user_tz": -330,
          "elapsed": 1915,
          "user": {
            "displayName": "Mr.Lazy Man",
            "photoUrl": "//lh6.googleusercontent.com/-1Hw8zucqO6U/AAAAAAAAAAI/AAAAAAAAAhw/CfRaKuQoodA/s50-c-k-no/photo.jpg",
            "userId": "102521058597262944620"
          }
        }
      },
      "cell_type": "code",
      "source": [
        "import os\n",
        "!ls"
      ],
      "execution_count": 16,
      "outputs": [
        {
          "output_type": "stream",
          "text": [
            "datalab\r\n"
          ],
          "name": "stdout"
        }
      ]
    },
    {
      "metadata": {
        "id": "JNuqIi6KN4V1",
        "colab_type": "code",
        "colab": {
          "autoexec": {
            "startup": false,
            "wait_interval": 0
          },
          "base_uri": "https://localhost:8080/",
          "height": 34
        },
        "outputId": "e9d3fbd6-2f50-400f-e9b3-e5045cd6e394",
        "executionInfo": {
          "status": "ok",
          "timestamp": 1526445728925,
          "user_tz": -330,
          "elapsed": 2008,
          "user": {
            "displayName": "Mr.Lazy Man",
            "photoUrl": "//lh6.googleusercontent.com/-1Hw8zucqO6U/AAAAAAAAAAI/AAAAAAAAAhw/CfRaKuQoodA/s50-c-k-no/photo.jpg",
            "userId": "102521058597262944620"
          }
        }
      },
      "cell_type": "code",
      "source": [
        "os.mkdir('drive')\n",
        "!ls"
      ],
      "execution_count": 17,
      "outputs": [
        {
          "output_type": "stream",
          "text": [
            "datalab  drive\r\n"
          ],
          "name": "stdout"
        }
      ]
    },
    {
      "metadata": {
        "id": "iPsOkz_nNvD3",
        "colab_type": "code",
        "colab": {
          "autoexec": {
            "startup": false,
            "wait_interval": 0
          }
        }
      },
      "cell_type": "code",
      "source": [
        "#Creating Checkpoints after every epoch\n",
        "\n",
        "from keras.callbacks import ModelCheckpoint\n",
        "\n",
        "filepath=\"May16-weights-{epoch:02d}-{val_acc:.2f}.hdf5\"\n",
        "checkpoint = ModelCheckpoint(filepath, monitor='val_acc', verbose=1,\n",
        "                             save_best_only=False, save_weights_only=True,\n",
        "                             mode='auto', period=1)\n",
        "callbacks_list = [checkpoint]"
      ],
      "execution_count": 0,
      "outputs": []
    },
    {
      "metadata": {
        "id": "crhGk7kEhXAz",
        "colab_type": "code",
        "colab": {
          "autoexec": {
            "startup": false,
            "wait_interval": 0
          },
          "base_uri": "https://localhost:8080/",
          "height": 3027
        },
        "outputId": "92e71820-716f-4143-f765-cb5eedead7af"
      },
      "cell_type": "code",
      "source": [
        "\n",
        "model.fit_generator(datagen.flow(x_train, y_train, batch_size=batch_size),\n",
        "                    steps_per_epoch=x_train.shape[0] / batch_size,epochs=epochs,verbose=1,validation_data=(x_test,y_test),callbacks=callbacks_list)"
      ],
      "execution_count": 0,
      "outputs": [
        {
          "output_type": "stream",
          "text": [
            "Epoch 1/50\n",
            "391/390 [==============================] - 288s 736ms/step - loss: 1.6060 - acc: 0.4044 - val_loss: 1.5288 - val_acc: 0.4842\n",
            "\n",
            "Epoch 00001: saving model to May16-weights-01-0.48.hdf5\n",
            "Epoch 2/50\n",
            "223/390 [================>.............] - ETA: 1:50 - loss: 1.2727 - acc: 0.5372"
          ],
          "name": "stdout"
        },
        {
          "output_type": "stream",
          "text": [
            "391/390 [==============================] - 274s 700ms/step - loss: 1.2263 - acc: 0.5531 - val_loss: 2.5152 - val_acc: 0.4160\n",
            "\n",
            "Epoch 00002: saving model to May16-weights-02-0.42.hdf5\n",
            "Epoch 3/50\n",
            "313/390 [=======================>......] - ETA: 50s - loss: 1.0809 - acc: 0.6108"
          ],
          "name": "stdout"
        },
        {
          "output_type": "stream",
          "text": [
            "391/390 [==============================] - 274s 700ms/step - loss: 1.0676 - acc: 0.6158 - val_loss: 1.4151 - val_acc: 0.5708\n",
            "\n",
            "Epoch 00003: saving model to May16-weights-03-0.57.hdf5\n",
            "Epoch 4/50\n",
            "340/390 [=========================>....] - ETA: 33s - loss: 0.9684 - acc: 0.6506"
          ],
          "name": "stdout"
        },
        {
          "output_type": "stream",
          "text": [
            "391/390 [==============================] - 273s 699ms/step - loss: 0.9638 - acc: 0.6531 - val_loss: 3.2494 - val_acc: 0.4097\n",
            "\n",
            "Epoch 00004: saving model to May16-weights-04-0.41.hdf5\n",
            "Epoch 5/50\n",
            "348/390 [=========================>....] - ETA: 28s - loss: 0.8967 - acc: 0.6779"
          ],
          "name": "stdout"
        },
        {
          "output_type": "stream",
          "text": [
            "391/390 [==============================] - 274s 700ms/step - loss: 0.8919 - acc: 0.6796 - val_loss: 1.5504 - val_acc: 0.5777\n",
            "\n",
            "Epoch 00005: saving model to May16-weights-05-0.58.hdf5\n",
            "Epoch 6/50\n",
            "350/390 [=========================>....] - ETA: 26s - loss: 0.8401 - acc: 0.7016"
          ],
          "name": "stdout"
        },
        {
          "output_type": "stream",
          "text": [
            "391/390 [==============================] - 274s 700ms/step - loss: 0.8383 - acc: 0.7022 - val_loss: 2.0025 - val_acc: 0.4996\n",
            "\n",
            "Epoch 00006: saving model to May16-weights-06-0.50.hdf5\n",
            "Epoch 7/50\n",
            "351/390 [=========================>....] - ETA: 26s - loss: 0.7978 - acc: 0.7173"
          ],
          "name": "stdout"
        },
        {
          "output_type": "stream",
          "text": [
            "391/390 [==============================] - 273s 699ms/step - loss: 0.7975 - acc: 0.7174 - val_loss: 1.1406 - val_acc: 0.6697\n",
            "\n",
            "Epoch 00007: saving model to May16-weights-07-0.67.hdf5\n",
            "Epoch 8/50\n",
            "351/390 [=========================>....] - ETA: 25s - loss: 0.7565 - acc: 0.7332"
          ],
          "name": "stdout"
        },
        {
          "output_type": "stream",
          "text": [
            "391/390 [==============================] - 273s 699ms/step - loss: 0.7560 - acc: 0.7333 - val_loss: 2.6113 - val_acc: 0.4683\n",
            "\n",
            "Epoch 00008: saving model to May16-weights-08-0.47.hdf5\n",
            "Epoch 9/50\n",
            "351/390 [=========================>....] - ETA: 25s - loss: 0.7205 - acc: 0.7464"
          ],
          "name": "stdout"
        },
        {
          "output_type": "stream",
          "text": [
            "391/390 [==============================] - 273s 699ms/step - loss: 0.7190 - acc: 0.7468 - val_loss: 1.0496 - val_acc: 0.7015\n",
            "\n",
            "Epoch 00009: saving model to May16-weights-09-0.70.hdf5\n",
            "Epoch 10/50\n",
            "350/390 [=========================>....] - ETA: 26s - loss: 0.6899 - acc: 0.7557"
          ],
          "name": "stdout"
        },
        {
          "output_type": "stream",
          "text": [
            "391/390 [==============================] - 274s 701ms/step - loss: 0.6881 - acc: 0.7566 - val_loss: 1.6346 - val_acc: 0.5763\n",
            "\n",
            "Epoch 00010: saving model to May16-weights-10-0.58.hdf5\n",
            "Epoch 11/50\n",
            "350/390 [=========================>....] - ETA: 26s - loss: 0.6697 - acc: 0.7648"
          ],
          "name": "stdout"
        },
        {
          "output_type": "stream",
          "text": [
            "391/390 [==============================] - 274s 701ms/step - loss: 0.6723 - acc: 0.7637 - val_loss: 1.0844 - val_acc: 0.7033\n",
            "\n",
            "Epoch 00011: saving model to May16-weights-11-0.70.hdf5\n",
            "Epoch 12/50\n",
            "350/390 [=========================>....] - ETA: 26s - loss: 0.6495 - acc: 0.7745"
          ],
          "name": "stdout"
        },
        {
          "output_type": "stream",
          "text": [
            "391/390 [==============================] - 274s 701ms/step - loss: 0.6460 - acc: 0.7758 - val_loss: 1.0615 - val_acc: 0.6959\n",
            "\n",
            "Epoch 00012: saving model to May16-weights-12-0.70.hdf5\n",
            "Epoch 13/50\n",
            "350/390 [=========================>....] - ETA: 26s - loss: 0.6231 - acc: 0.7809"
          ],
          "name": "stdout"
        },
        {
          "output_type": "stream",
          "text": [
            "391/390 [==============================] - 274s 701ms/step - loss: 0.6220 - acc: 0.7821 - val_loss: 1.6762 - val_acc: 0.5961\n",
            "\n",
            "Epoch 00013: saving model to May16-weights-13-0.60.hdf5\n",
            "Epoch 14/50\n",
            "350/390 [=========================>....] - ETA: 26s - loss: 0.6079 - acc: 0.7893"
          ],
          "name": "stdout"
        },
        {
          "output_type": "stream",
          "text": [
            "391/390 [==============================] - 274s 701ms/step - loss: 0.6070 - acc: 0.7894 - val_loss: 1.0985 - val_acc: 0.7063\n",
            "\n",
            "Epoch 00014: saving model to May16-weights-14-0.71.hdf5\n",
            "Epoch 15/50\n",
            "350/390 [=========================>....] - ETA: 26s - loss: 0.5890 - acc: 0.7925"
          ],
          "name": "stdout"
        },
        {
          "output_type": "stream",
          "text": [
            "391/390 [==============================] - 274s 701ms/step - loss: 0.5875 - acc: 0.7934 - val_loss: 1.0450 - val_acc: 0.7197\n",
            "\n",
            "Epoch 00015: saving model to May16-weights-15-0.72.hdf5\n",
            "Epoch 16/50\n",
            "350/390 [=========================>....] - ETA: 26s - loss: 0.5750 - acc: 0.7996"
          ],
          "name": "stdout"
        },
        {
          "output_type": "stream",
          "text": [
            "391/390 [==============================] - 274s 701ms/step - loss: 0.5729 - acc: 0.8003 - val_loss: 0.9071 - val_acc: 0.7550\n",
            "\n",
            "Epoch 00016: saving model to May16-weights-16-0.76.hdf5\n",
            "Epoch 17/50\n",
            "350/390 [=========================>....] - ETA: 26s - loss: 0.5539 - acc: 0.8082"
          ],
          "name": "stdout"
        },
        {
          "output_type": "stream",
          "text": [
            "391/390 [==============================] - 274s 700ms/step - loss: 0.5538 - acc: 0.8079 - val_loss: 0.9186 - val_acc: 0.7561\n",
            "\n",
            "Epoch 00017: saving model to May16-weights-17-0.76.hdf5\n",
            "Epoch 18/50\n",
            "350/390 [=========================>....] - ETA: 26s - loss: 0.5458 - acc: 0.8109"
          ],
          "name": "stdout"
        },
        {
          "output_type": "stream",
          "text": [
            "391/390 [==============================] - 274s 701ms/step - loss: 0.5440 - acc: 0.8111 - val_loss: 0.7590 - val_acc: 0.7799\n",
            "\n",
            "Epoch 00018: saving model to May16-weights-18-0.78.hdf5\n",
            "Epoch 19/50\n",
            "350/390 [=========================>....] - ETA: 26s - loss: 0.5371 - acc: 0.8134"
          ],
          "name": "stdout"
        },
        {
          "output_type": "stream",
          "text": [
            "391/390 [==============================] - 274s 701ms/step - loss: 0.5375 - acc: 0.8128 - val_loss: 0.8620 - val_acc: 0.7610\n",
            "\n",
            "Epoch 00019: saving model to May16-weights-19-0.76.hdf5\n",
            "Epoch 20/50\n",
            "350/390 [=========================>....] - ETA: 26s - loss: 0.5286 - acc: 0.8176"
          ],
          "name": "stdout"
        },
        {
          "output_type": "stream",
          "text": [
            "391/390 [==============================] - 273s 699ms/step - loss: 0.5278 - acc: 0.8172 - val_loss: 0.5621 - val_acc: 0.8245\n",
            "\n",
            "Epoch 00020: saving model to May16-weights-20-0.82.hdf5\n",
            "Epoch 21/50\n",
            "350/390 [=========================>....] - ETA: 26s - loss: 0.5079 - acc: 0.8212"
          ],
          "name": "stdout"
        },
        {
          "output_type": "stream",
          "text": [
            "391/390 [==============================] - 274s 701ms/step - loss: 0.5085 - acc: 0.8216 - val_loss: 0.9080 - val_acc: 0.7559\n",
            "\n",
            "Epoch 00021: saving model to May16-weights-21-0.76.hdf5\n",
            "Epoch 22/50\n",
            "350/390 [=========================>....] - ETA: 26s - loss: 0.5106 - acc: 0.8230"
          ],
          "name": "stdout"
        },
        {
          "output_type": "stream",
          "text": [
            "391/390 [==============================] - 274s 701ms/step - loss: 0.5082 - acc: 0.8237 - val_loss: 1.2566 - val_acc: 0.7056\n",
            "\n",
            "Epoch 00022: saving model to May16-weights-22-0.71.hdf5\n",
            "Epoch 23/50\n",
            "350/390 [=========================>....] - ETA: 26s - loss: 0.4938 - acc: 0.8268"
          ],
          "name": "stdout"
        },
        {
          "output_type": "stream",
          "text": [
            "391/390 [==============================] - 274s 700ms/step - loss: 0.4946 - acc: 0.8265 - val_loss: 1.1757 - val_acc: 0.7095\n",
            "\n",
            "Epoch 00023: saving model to May16-weights-23-0.71.hdf5\n",
            "Epoch 24/50\n",
            "350/390 [=========================>....] - ETA: 26s - loss: 0.4874 - acc: 0.8289"
          ],
          "name": "stdout"
        },
        {
          "output_type": "stream",
          "text": [
            "391/390 [==============================] - 274s 702ms/step - loss: 0.4884 - acc: 0.8288 - val_loss: 0.9796 - val_acc: 0.7632\n",
            "\n",
            "Epoch 00024: saving model to May16-weights-24-0.76.hdf5\n",
            "Epoch 25/50\n",
            "350/390 [=========================>....] - ETA: 26s - loss: 0.4821 - acc: 0.8317"
          ],
          "name": "stdout"
        },
        {
          "output_type": "stream",
          "text": [
            "391/390 [==============================] - 274s 702ms/step - loss: 0.4812 - acc: 0.8319 - val_loss: 0.8281 - val_acc: 0.7711\n",
            "\n",
            "Epoch 00025: saving model to May16-weights-25-0.77.hdf5\n",
            "Epoch 26/50\n",
            "350/390 [=========================>....] - ETA: 26s - loss: 0.4700 - acc: 0.8343"
          ],
          "name": "stdout"
        },
        {
          "output_type": "stream",
          "text": [
            "391/390 [==============================] - 272s 696ms/step - loss: 0.4730 - acc: 0.8340 - val_loss: 0.9168 - val_acc: 0.7595\n",
            "\n",
            "Epoch 00026: saving model to May16-weights-26-0.76.hdf5\n",
            "Epoch 27/50\n",
            "350/390 [=========================>....] - ETA: 26s - loss: 0.4672 - acc: 0.8383"
          ],
          "name": "stdout"
        },
        {
          "output_type": "stream",
          "text": [
            "391/390 [==============================] - 272s 696ms/step - loss: 0.4650 - acc: 0.8386 - val_loss: 0.7187 - val_acc: 0.8067\n",
            "\n",
            "Epoch 00027: saving model to May16-weights-27-0.81.hdf5\n",
            "Epoch 28/50\n",
            "350/390 [=========================>....] - ETA: 26s - loss: 0.4611 - acc: 0.8395"
          ],
          "name": "stdout"
        },
        {
          "output_type": "stream",
          "text": [
            "391/390 [==============================] - 274s 701ms/step - loss: 0.4615 - acc: 0.8401 - val_loss: 1.0376 - val_acc: 0.7431\n",
            "\n",
            "Epoch 00028: saving model to May16-weights-28-0.74.hdf5\n",
            "Epoch 29/50\n",
            "350/390 [=========================>....] - ETA: 26s - loss: 0.4491 - acc: 0.8429"
          ],
          "name": "stdout"
        },
        {
          "output_type": "stream",
          "text": [
            "391/390 [==============================] - 274s 701ms/step - loss: 0.4489 - acc: 0.8427 - val_loss: 0.6839 - val_acc: 0.8112\n",
            "\n",
            "Epoch 00029: saving model to May16-weights-29-0.81.hdf5\n",
            "Epoch 30/50\n",
            "350/390 [=========================>....] - ETA: 26s - loss: 0.4493 - acc: 0.8438"
          ],
          "name": "stdout"
        },
        {
          "output_type": "stream",
          "text": [
            "391/390 [==============================] - 274s 701ms/step - loss: 0.4479 - acc: 0.8438 - val_loss: 0.7385 - val_acc: 0.8012\n",
            "\n",
            "Epoch 00030: saving model to May16-weights-30-0.80.hdf5\n",
            "Epoch 31/50\n",
            "350/390 [=========================>....] - ETA: 26s - loss: 0.4369 - acc: 0.8481"
          ],
          "name": "stdout"
        },
        {
          "output_type": "stream",
          "text": [
            "391/390 [==============================] - 274s 701ms/step - loss: 0.4397 - acc: 0.8467 - val_loss: 0.8016 - val_acc: 0.7716\n",
            "\n",
            "Epoch 00031: saving model to May16-weights-31-0.77.hdf5\n",
            "Epoch 32/50\n",
            "350/390 [=========================>....] - ETA: 26s - loss: 0.4332 - acc: 0.8487"
          ],
          "name": "stdout"
        },
        {
          "output_type": "stream",
          "text": [
            "391/390 [==============================] - 273s 698ms/step - loss: 0.4348 - acc: 0.8481 - val_loss: 0.7638 - val_acc: 0.8035\n",
            "\n",
            "Epoch 00032: saving model to May16-weights-32-0.80.hdf5\n",
            "Epoch 33/50\n",
            "350/390 [=========================>....] - ETA: 26s - loss: 0.4273 - acc: 0.8524"
          ],
          "name": "stdout"
        },
        {
          "output_type": "stream",
          "text": [
            "391/390 [==============================] - 274s 700ms/step - loss: 0.4272 - acc: 0.8528 - val_loss: 0.9402 - val_acc: 0.7561\n",
            "\n",
            "Epoch 00033: saving model to May16-weights-33-0.76.hdf5\n",
            "Epoch 34/50\n",
            "350/390 [=========================>....] - ETA: 26s - loss: 0.4294 - acc: 0.8506"
          ],
          "name": "stdout"
        },
        {
          "output_type": "stream",
          "text": [
            "391/390 [==============================] - 274s 701ms/step - loss: 0.4265 - acc: 0.8521 - val_loss: 0.7977 - val_acc: 0.7810\n",
            "\n",
            "Epoch 00034: saving model to May16-weights-34-0.78.hdf5\n",
            "Epoch 35/50\n",
            "350/390 [=========================>....] - ETA: 26s - loss: 0.4153 - acc: 0.8535"
          ],
          "name": "stdout"
        },
        {
          "output_type": "stream",
          "text": [
            "391/390 [==============================] - 274s 701ms/step - loss: 0.4180 - acc: 0.8530 - val_loss: 0.9944 - val_acc: 0.7491\n",
            "\n",
            "Epoch 00035: saving model to May16-weights-35-0.75.hdf5\n",
            "Epoch 36/50\n",
            "350/390 [=========================>....] - ETA: 26s - loss: 0.4166 - acc: 0.8543"
          ],
          "name": "stdout"
        },
        {
          "output_type": "stream",
          "text": [
            "391/390 [==============================] - 274s 701ms/step - loss: 0.4171 - acc: 0.8542 - val_loss: 0.6975 - val_acc: 0.8062\n",
            "\n",
            "Epoch 00036: saving model to May16-weights-36-0.81.hdf5\n",
            "Epoch 37/50\n",
            "350/390 [=========================>....] - ETA: 26s - loss: 0.4100 - acc: 0.8585"
          ],
          "name": "stdout"
        },
        {
          "output_type": "stream",
          "text": [
            "391/390 [==============================] - 274s 701ms/step - loss: 0.4115 - acc: 0.8580 - val_loss: 0.7859 - val_acc: 0.7997\n",
            "\n",
            "Epoch 00037: saving model to May16-weights-37-0.80.hdf5\n",
            "Epoch 38/50\n",
            "350/390 [=========================>....] - ETA: 26s - loss: 0.3999 - acc: 0.8619"
          ],
          "name": "stdout"
        },
        {
          "output_type": "stream",
          "text": [
            "391/390 [==============================] - 274s 701ms/step - loss: 0.3994 - acc: 0.8619 - val_loss: 0.8624 - val_acc: 0.7877\n",
            "\n",
            "Epoch 00038: saving model to May16-weights-38-0.79.hdf5\n",
            "Epoch 39/50\n",
            "350/390 [=========================>....] - ETA: 26s - loss: 0.4021 - acc: 0.8604"
          ],
          "name": "stdout"
        },
        {
          "output_type": "stream",
          "text": [
            "391/390 [==============================] - 274s 701ms/step - loss: 0.4034 - acc: 0.8599 - val_loss: 0.7181 - val_acc: 0.7971\n",
            "\n",
            "Epoch 00039: saving model to May16-weights-39-0.80.hdf5\n",
            "Epoch 40/50\n",
            "350/390 [=========================>....] - ETA: 26s - loss: 0.3985 - acc: 0.8603"
          ],
          "name": "stdout"
        },
        {
          "output_type": "stream",
          "text": [
            "391/390 [==============================] - 274s 701ms/step - loss: 0.3991 - acc: 0.8602 - val_loss: 0.5768 - val_acc: 0.8292\n",
            "\n",
            "Epoch 00040: saving model to May16-weights-40-0.83.hdf5\n",
            "Epoch 41/50\n",
            "350/390 [=========================>....] - ETA: 26s - loss: 0.3930 - acc: 0.8637"
          ],
          "name": "stdout"
        },
        {
          "output_type": "stream",
          "text": [
            "391/390 [==============================] - 274s 700ms/step - loss: 0.3941 - acc: 0.8631 - val_loss: 0.7642 - val_acc: 0.7929\n",
            "\n",
            "Epoch 00041: saving model to May16-weights-41-0.79.hdf5\n",
            "Epoch 42/50\n",
            "350/390 [=========================>....] - ETA: 26s - loss: 0.3867 - acc: 0.8632"
          ],
          "name": "stdout"
        },
        {
          "output_type": "stream",
          "text": [
            "391/390 [==============================] - 274s 700ms/step - loss: 0.3882 - acc: 0.8629 - val_loss: 1.1716 - val_acc: 0.7417\n",
            "\n",
            "Epoch 00042: saving model to May16-weights-42-0.74.hdf5\n",
            "Epoch 43/50\n",
            "350/390 [=========================>....] - ETA: 26s - loss: 0.3816 - acc: 0.8656"
          ],
          "name": "stdout"
        },
        {
          "output_type": "stream",
          "text": [
            "391/390 [==============================] - 273s 699ms/step - loss: 0.3833 - acc: 0.8655 - val_loss: 0.5867 - val_acc: 0.8386\n",
            "\n",
            "Epoch 00043: saving model to May16-weights-43-0.84.hdf5\n",
            "Epoch 44/50\n",
            "350/390 [=========================>....] - ETA: 26s - loss: 0.3778 - acc: 0.8676"
          ],
          "name": "stdout"
        },
        {
          "output_type": "stream",
          "text": [
            "391/390 [==============================] - 274s 700ms/step - loss: 0.3810 - acc: 0.8666 - val_loss: 0.4896 - val_acc: 0.8571\n",
            "\n",
            "Epoch 00044: saving model to May16-weights-44-0.86.hdf5\n",
            "Epoch 45/50\n",
            "104/390 [======>.......................] - ETA: 3:07 - loss: 0.3669 - acc: 0.8713"
          ],
          "name": "stdout"
        }
      ]
    },
    {
      "metadata": {
        "id": "vYbhagMZ_0IY",
        "colab_type": "code",
        "colab": {
          "autoexec": {
            "startup": false,
            "wait_interval": 0
          },
          "base_uri": "https://localhost:8080/",
          "height": 403
        },
        "outputId": "bc6e6281-631b-4dfb-8367-e6cf71aeed1c",
        "executionInfo": {
          "status": "ok",
          "timestamp": 1526458177100,
          "user_tz": -330,
          "elapsed": 2002,
          "user": {
            "displayName": "Mr.Lazy Man",
            "photoUrl": "//lh6.googleusercontent.com/-1Hw8zucqO6U/AAAAAAAAAAI/AAAAAAAAAhw/CfRaKuQoodA/s50-c-k-no/photo.jpg",
            "userId": "102521058597262944620"
          }
        }
      },
      "cell_type": "code",
      "source": [
        "!ls"
      ],
      "execution_count": 23,
      "outputs": [
        {
          "output_type": "stream",
          "text": [
            "May16-weights-01-0.48.hdf5  May16-weights-24-0.76.hdf5\r\n",
            "May16-weights-02-0.42.hdf5  May16-weights-25-0.77.hdf5\r\n",
            "May16-weights-03-0.57.hdf5  May16-weights-26-0.76.hdf5\r\n",
            "May16-weights-04-0.41.hdf5  May16-weights-27-0.81.hdf5\r\n",
            "May16-weights-05-0.58.hdf5  May16-weights-28-0.74.hdf5\r\n",
            "May16-weights-06-0.50.hdf5  May16-weights-29-0.81.hdf5\r\n",
            "May16-weights-07-0.67.hdf5  May16-weights-30-0.80.hdf5\r\n",
            "May16-weights-08-0.47.hdf5  May16-weights-31-0.77.hdf5\r\n",
            "May16-weights-09-0.70.hdf5  May16-weights-32-0.80.hdf5\r\n",
            "May16-weights-10-0.58.hdf5  May16-weights-33-0.76.hdf5\r\n",
            "May16-weights-11-0.70.hdf5  May16-weights-34-0.78.hdf5\r\n",
            "May16-weights-12-0.70.hdf5  May16-weights-35-0.75.hdf5\r\n",
            "May16-weights-13-0.60.hdf5  May16-weights-36-0.81.hdf5\r\n",
            "May16-weights-14-0.71.hdf5  May16-weights-37-0.80.hdf5\r\n",
            "May16-weights-15-0.72.hdf5  May16-weights-38-0.79.hdf5\r\n",
            "May16-weights-16-0.76.hdf5  May16-weights-39-0.80.hdf5\r\n",
            "May16-weights-17-0.76.hdf5  May16-weights-40-0.83.hdf5\r\n",
            "May16-weights-18-0.78.hdf5  May16-weights-41-0.79.hdf5\r\n",
            "May16-weights-19-0.76.hdf5  May16-weights-42-0.74.hdf5\r\n",
            "May16-weights-20-0.82.hdf5  May16-weights-43-0.84.hdf5\r\n",
            "May16-weights-21-0.76.hdf5  May16-weights-44-0.86.hdf5\r\n",
            "May16-weights-22-0.71.hdf5  May16-weights-45-0.82.hdf5\r\n",
            "May16-weights-23-0.71.hdf5\r\n"
          ],
          "name": "stdout"
        }
      ]
    },
    {
      "metadata": {
        "id": "GRKEAXgy_0KU",
        "colab_type": "code",
        "colab": {
          "autoexec": {
            "startup": false,
            "wait_interval": 0
          }
        }
      },
      "cell_type": "code",
      "source": [
        "model.save('May16-weights-45-0.82.hdf5')\n",
        "\n",
        "from keras.models import load_model\n",
        "model=load_model('May16-weights-45-0.82.hdf5')"
      ],
      "execution_count": 0,
      "outputs": []
    },
    {
      "metadata": {
        "id": "pnKv6oSv_0MP",
        "colab_type": "code",
        "colab": {
          "autoexec": {
            "startup": false,
            "wait_interval": 0
          },
          "base_uri": "https://localhost:8080/",
          "height": 390
        },
        "outputId": "3da5861e-ea20-4141-e385-0a268bb51f46",
        "executionInfo": {
          "status": "ok",
          "timestamp": 1526459647449,
          "user_tz": -330,
          "elapsed": 1408814,
          "user": {
            "displayName": "Mr.Lazy Man",
            "photoUrl": "//lh6.googleusercontent.com/-1Hw8zucqO6U/AAAAAAAAAAI/AAAAAAAAAhw/CfRaKuQoodA/s50-c-k-no/photo.jpg",
            "userId": "102521058597262944620"
          }
        }
      },
      "cell_type": "code",
      "source": [
        "\n",
        "model.fit_generator(datagen.flow(x_train, y_train, batch_size=batch_size),\n",
        "                    steps_per_epoch=x_train.shape[0] / batch_size,epochs=5,verbose=1,validation_data=(x_test,y_test),callbacks=callbacks_list)"
      ],
      "execution_count": 25,
      "outputs": [
        {
          "output_type": "stream",
          "text": [
            "Epoch 1/5\n",
            "391/390 [==============================] - 284s 726ms/step - loss: 0.3724 - acc: 0.8702 - val_loss: 0.4734 - val_acc: 0.8638\n",
            "\n",
            "Epoch 00001: saving model to May16-weights-01-0.86.hdf5\n",
            "Epoch 2/5\n",
            "226/390 [================>.............] - ETA: 1:48 - loss: 0.3698 - acc: 0.8703"
          ],
          "name": "stdout"
        },
        {
          "output_type": "stream",
          "text": [
            "391/390 [==============================] - 275s 703ms/step - loss: 0.3711 - acc: 0.8697 - val_loss: 0.4725 - val_acc: 0.8559\n",
            "\n",
            "Epoch 00002: saving model to May16-weights-02-0.86.hdf5\n",
            "Epoch 3/5\n",
            "315/390 [=======================>......] - ETA: 49s - loss: 0.3693 - acc: 0.8729"
          ],
          "name": "stdout"
        },
        {
          "output_type": "stream",
          "text": [
            "391/390 [==============================] - 275s 704ms/step - loss: 0.3683 - acc: 0.8729 - val_loss: 0.6006 - val_acc: 0.8394\n",
            "\n",
            "Epoch 00003: saving model to May16-weights-03-0.84.hdf5\n",
            "Epoch 4/5\n",
            "342/390 [=========================>....] - ETA: 32s - loss: 0.3587 - acc: 0.8749"
          ],
          "name": "stdout"
        },
        {
          "output_type": "stream",
          "text": [
            "391/390 [==============================] - 276s 705ms/step - loss: 0.3592 - acc: 0.8750 - val_loss: 0.6668 - val_acc: 0.8385\n",
            "\n",
            "Epoch 00004: saving model to May16-weights-04-0.84.hdf5\n",
            "Epoch 5/5\n",
            "350/390 [=========================>....] - ETA: 26s - loss: 0.3595 - acc: 0.8745"
          ],
          "name": "stdout"
        },
        {
          "output_type": "stream",
          "text": [
            "391/390 [==============================] - 275s 704ms/step - loss: 0.3597 - acc: 0.8744 - val_loss: 0.5768 - val_acc: 0.8500\n",
            "\n",
            "Epoch 00005: saving model to May16-weights-05-0.85.hdf5\n"
          ],
          "name": "stdout"
        },
        {
          "output_type": "execute_result",
          "data": {
            "text/plain": [
              "<keras.callbacks.History at 0x7f58bc780748>"
            ]
          },
          "metadata": {
            "tags": []
          },
          "execution_count": 25
        }
      ]
    },
    {
      "metadata": {
        "id": "ZcWydmIVhZGr",
        "colab_type": "code",
        "colab": {
          "autoexec": {
            "startup": false,
            "wait_interval": 0
          },
          "base_uri": "https://localhost:8080/",
          "height": 67
        },
        "outputId": "84c7b40c-9854-44f1-9aeb-2e480ec4079d",
        "executionInfo": {
          "status": "ok",
          "timestamp": 1526459744555,
          "user_tz": -330,
          "elapsed": 24484,
          "user": {
            "displayName": "Mr.Lazy Man",
            "photoUrl": "//lh6.googleusercontent.com/-1Hw8zucqO6U/AAAAAAAAAAI/AAAAAAAAAhw/CfRaKuQoodA/s50-c-k-no/photo.jpg",
            "userId": "102521058597262944620"
          }
        }
      },
      "cell_type": "code",
      "source": [
        "# Test the model\n",
        "score = model.evaluate(x_test, y_test, verbose=1)\n",
        "print('Test loss:', score[0])\n",
        "print('Test accuracy:', score[1])"
      ],
      "execution_count": 26,
      "outputs": [
        {
          "output_type": "stream",
          "text": [
            "10000/10000 [==============================] - 24s 2ms/step\n",
            "Test loss: 0.5768085919499397\n",
            "Test accuracy: 0.85\n"
          ],
          "name": "stdout"
        }
      ]
    },
    {
      "metadata": {
        "id": "1vIvRK5pF4vR",
        "colab_type": "code",
        "colab": {
          "autoexec": {
            "startup": false,
            "wait_interval": 0
          }
        }
      },
      "cell_type": "code",
      "source": [
        "model.save('May16-weights-01-0.86.hdf5')\n",
        "\n",
        "from keras.models import load_model\n",
        "model=load_model('May16-weights-01-0.86.hdf5')"
      ],
      "execution_count": 0,
      "outputs": []
    },
    {
      "metadata": {
        "id": "VgHmwRe7F4zp",
        "colab_type": "code",
        "colab": {
          "autoexec": {
            "startup": false,
            "wait_interval": 0
          },
          "base_uri": "https://localhost:8080/",
          "height": 67
        },
        "outputId": "c4d720b5-d718-4191-a2d8-73cf74c31db7",
        "executionInfo": {
          "status": "ok",
          "timestamp": 1526460574564,
          "user_tz": -330,
          "elapsed": 26371,
          "user": {
            "displayName": "Mr.Lazy Man",
            "photoUrl": "//lh6.googleusercontent.com/-1Hw8zucqO6U/AAAAAAAAAAI/AAAAAAAAAhw/CfRaKuQoodA/s50-c-k-no/photo.jpg",
            "userId": "102521058597262944620"
          }
        }
      },
      "cell_type": "code",
      "source": [
        "# Test the model\n",
        "score = model.evaluate(x_test, y_test, verbose=1)\n",
        "print('Test loss:', score[0])\n",
        "print('Test accuracy:', score[1])"
      ],
      "execution_count": 28,
      "outputs": [
        {
          "output_type": "stream",
          "text": [
            "10000/10000 [==============================] - 26s 3ms/step\n",
            "Test loss: 0.5768085919499397\n",
            "Test accuracy: 0.85\n"
          ],
          "name": "stdout"
        }
      ]
    },
    {
      "metadata": {
        "id": "gcGnAzqoF42c",
        "colab_type": "code",
        "colab": {
          "autoexec": {
            "startup": false,
            "wait_interval": 0
          }
        }
      },
      "cell_type": "code",
      "source": [
        ""
      ],
      "execution_count": 0,
      "outputs": []
    },
    {
      "metadata": {
        "id": "F713Ttm6F449",
        "colab_type": "code",
        "colab": {
          "autoexec": {
            "startup": false,
            "wait_interval": 0
          }
        }
      },
      "cell_type": "code",
      "source": [
        ""
      ],
      "execution_count": 0,
      "outputs": []
    },
    {
      "metadata": {
        "id": "UE3lF6EH1r_L",
        "colab_type": "code",
        "colab": {
          "autoexec": {
            "startup": false,
            "wait_interval": 0
          },
          "base_uri": "https://localhost:8080/",
          "height": 34
        },
        "outputId": "92df862c-76a7-4a02-9533-6c164bc5984d",
        "executionInfo": {
          "status": "ok",
          "timestamp": 1519133080926,
          "user_tz": -330,
          "elapsed": 9796,
          "user": {
            "displayName": "Rohan Shravan",
            "photoUrl": "https://lh3.googleusercontent.com/a/default-user=s128",
            "userId": "116259693572096743881"
          }
        }
      },
      "cell_type": "code",
      "source": [
        "# Save the trained weights in to .h5 format\n",
        "model.save_weights(\"DNST_model.h5\")\n",
        "print(\"Saved model to disk\")"
      ],
      "execution_count": 0,
      "outputs": [
        {
          "output_type": "stream",
          "text": [
            "Saved model to disk\n"
          ],
          "name": "stdout"
        }
      ]
    },
    {
      "metadata": {
        "id": "ai-yZ2ED5AK1",
        "colab_type": "code",
        "colab": {
          "autoexec": {
            "startup": false,
            "wait_interval": 0
          }
        }
      },
      "cell_type": "code",
      "source": [
        "from google.colab import files\n",
        "\n",
        "files.download('DNST_model.h5')"
      ],
      "execution_count": 0,
      "outputs": []
    },
    {
      "metadata": {
        "id": "Og56VCRh5j8V",
        "colab_type": "code",
        "colab": {
          "autoexec": {
            "startup": false,
            "wait_interval": 0
          }
        }
      },
      "cell_type": "code",
      "source": [
        ""
      ],
      "execution_count": 0,
      "outputs": []
    }
  ]
}